{
 "cells": [
  {
   "cell_type": "markdown",
   "metadata": {},
   "source": [
    "## Harmonic Oscillator Simulations\n",
    "\n",
    "This is a Jupyter notebook which will illustrate a few examples involving the quantum harmonic oscillator.\n",
    "\n",
    "We have learned to study this system analytically by defining the raising and lowering operators\n",
    "\n",
    "$$\\begin{align} \\hat{a} = \\sqrt{\\frac{\\hbar}{2 m \\omega}} \\left( x + i p \\right) \\nonumber \\\\ \\hat{a}^\\dagger = \\sqrt{\\frac{\\hbar}{2 m \\omega}} \\left( x - i p \\right) , \\end{align}$$\n",
    "\n",
    "but we can understand this in a complementary way using numerical computation. Our weapon of choice for doing this will be the Quantum Toolkit in Python, or QuTiP."
   ]
  },
  {
   "cell_type": "code",
   "execution_count": null,
   "metadata": {
    "collapsed": false
   },
   "outputs": [],
   "source": [
    "\"\"\"\n",
    "Let's recall some of the punchlines that Michael told us about in lecture.\n",
    "\"\"\"\n",
    "\n",
    "from IPython.display import Image\n",
    "Image(\"./fedora.jpg\", retina=True)"
   ]
  },
  {
   "cell_type": "markdown",
   "metadata": {},
   "source": [
    "__Punchlines.__\n",
    "+ The harmonic oscillator Hamiltonian is $H = \\frac{p^2}{2m} + \\frac{1}{2} m \\omega^2 x^2$, which can be written as $H = \\hbar \\omega \\left( \\hat{N} + \\frac{1}{2} \\right)$.\n",
    "\n",
    "+ We write eigenstates of the harmonic oscillator as $| n \\rangle$ for a nonnegative integer label $n \\geq 0$.\n",
    "\n",
    "+ The raising operator acts as $\\hat{a}^\\dagger | n \\rangle = \\sqrt{n+1} | n + 1 \\rangle$, and the lowering operator acts as $\\hat{a} | n \\rangle = \\sqrt{n} | n - 1 \\rangle$ (unless $n=0$, in which case $\\hat{a} | 0 \\rangle = 0$).\n",
    "\n",
    "+ The raising and lowering operators satisfy the algebra $[a^\\dagger, a] = 1$.\n",
    " \n",
    "Cool!"
   ]
  },
  {
   "cell_type": "markdown",
   "metadata": {},
   "source": [
    "Motivated by these analytical results, can we look at some computational representations of these operators and states -- especially those that we cannot analyze analytically -- to test and strengthen our intuition? That will be our goal for today.\n",
    "\n",
    "*Learning Goals*.\n",
    "* Get an introduction to QuTiP, the quantum toolbox in Python, for simulating quantum mechanical systems.\n",
    "* TODO\n",
    "\n",
    "Let's do some physics!"
   ]
  },
  {
   "cell_type": "code",
   "execution_count": 2,
   "metadata": {
    "collapsed": false
   },
   "outputs": [
    {
     "ename": "ImportError",
     "evalue": "No module named qutip",
     "output_type": "error",
     "traceback": [
      "\u001b[1;31m---------------------------------------------------------------------------\u001b[0m",
      "\u001b[1;31mImportError\u001b[0m                               Traceback (most recent call last)",
      "\u001b[1;32m<ipython-input-2-01a53de509c3>\u001b[0m in \u001b[0;36m<module>\u001b[1;34m()\u001b[0m\n\u001b[0;32m      3\u001b[0m \"\"\"\n\u001b[0;32m      4\u001b[0m \u001b[1;32mimport\u001b[0m \u001b[0mmatplotlib\u001b[0m\u001b[1;33m.\u001b[0m\u001b[0mpyplot\u001b[0m \u001b[1;32mas\u001b[0m \u001b[0mplt\u001b[0m\u001b[1;33m,\u001b[0m \u001b[0mnumpy\u001b[0m \u001b[1;32mas\u001b[0m \u001b[0mnp\u001b[0m\u001b[1;33m\u001b[0m\u001b[0m\n\u001b[1;32m----> 5\u001b[1;33m \u001b[1;32mfrom\u001b[0m \u001b[0mqutip\u001b[0m \u001b[1;32mimport\u001b[0m \u001b[1;33m*\u001b[0m\u001b[1;33m\u001b[0m\u001b[0m\n\u001b[0m\u001b[0;32m      6\u001b[0m \u001b[0mget_ipython\u001b[0m\u001b[1;33m(\u001b[0m\u001b[1;33m)\u001b[0m\u001b[1;33m.\u001b[0m\u001b[0mmagic\u001b[0m\u001b[1;33m(\u001b[0m\u001b[1;34mu'matplotlib inline'\u001b[0m\u001b[1;33m)\u001b[0m\u001b[1;33m\u001b[0m\u001b[0m\n",
      "\u001b[1;31mImportError\u001b[0m: No module named qutip"
     ]
    }
   ],
   "source": [
    "\"\"\"\n",
    "We'll use a Python library called QuTiP for our simulations. First I do some imports.\n",
    "\"\"\"\n",
    "import matplotlib.pyplot as plt, numpy as np\n",
    "from qutip import *\n",
    "%matplotlib inline"
   ]
  },
  {
   "cell_type": "code",
   "execution_count": null,
   "metadata": {
    "collapsed": true
   },
   "outputs": [],
   "source": [
    "# Raising operator\n",
    "\n",
    "a = destroy(N=10)"
   ]
  },
  {
   "cell_type": "code",
   "execution_count": null,
   "metadata": {
    "collapsed": true
   },
   "outputs": [],
   "source": [
    "a_dag = a.dag()"
   ]
  },
  {
   "cell_type": "code",
   "execution_count": null,
   "metadata": {
    "collapsed": true
   },
   "outputs": [],
   "source": [
    "# We could also have just used the create command\n",
    "\n",
    "create(N=10)"
   ]
  },
  {
   "cell_type": "code",
   "execution_count": null,
   "metadata": {
    "collapsed": true
   },
   "outputs": [],
   "source": [
    "# What do you expect this to give\n",
    "\n",
    "def commutator(herp, derp):\n",
    "    return herp*derp - derp*herp\n",
    "\n",
    "commutator(a, a.dag())"
   ]
  },
  {
   "cell_type": "code",
   "execution_count": null,
   "metadata": {
    "collapsed": true
   },
   "outputs": [],
   "source": [
    "import numpy as np\n",
    "\n",
    "x = (a+a.dag())/np.sqrt(2)\n",
    "p = (a+a.dag())/(np.sqrt(2)*j)"
   ]
  },
  {
   "cell_type": "markdown",
   "metadata": {},
   "source": [
    "Wow! Notice that QuTiP automatically converted that bad boy to LaTeX behind the scenes! To get some familiarity, let's check out a few of the basic convenience functions we have for the \"Quantum object\" datatype."
   ]
  },
  {
   "cell_type": "code",
   "execution_count": null,
   "metadata": {
    "collapsed": false
   },
   "outputs": [],
   "source": [
    "## Get some daggers up in here\n",
    "\n",
    "(H0 + sigmay()).dag()"
   ]
  },
  {
   "cell_type": "code",
   "execution_count": null,
   "metadata": {
    "collapsed": false
   },
   "outputs": [],
   "source": [
    "## Trace that sucker!\n",
    "\n",
    "H0.tr()"
   ]
  },
  {
   "cell_type": "code",
   "execution_count": null,
   "metadata": {
    "collapsed": false
   },
   "outputs": [],
   "source": [
    "## Compute the energies. Should be sqrt(2) and -sqrt(2), right?\n",
    "\n",
    "H0.eigenenergies()"
   ]
  },
  {
   "cell_type": "code",
   "execution_count": null,
   "metadata": {
    "collapsed": false
   },
   "outputs": [],
   "source": [
    "## Find the eigenstates as numpy arrays!\n",
    "\n",
    "H0.eigenstates()"
   ]
  },
  {
   "cell_type": "code",
   "execution_count": null,
   "metadata": {
    "collapsed": false
   },
   "outputs": [],
   "source": [
    "## Get the commutator with sigma(y). What do you think it should be?\n",
    "\n",
    "commutator(H0, sigmay())"
   ]
  },
  {
   "cell_type": "code",
   "execution_count": null,
   "metadata": {
    "collapsed": false
   },
   "outputs": [],
   "source": [
    "## Can also tensor with the identity, in case we had a composite state\n",
    "\n",
    "tensor(H0, qeye(2))"
   ]
  },
  {
   "cell_type": "markdown",
   "metadata": {},
   "source": [
    "QuTiP has __many__ builtins for everything from harmonic oscillator raising and lowering states, to density matrices, to entangled multiparticle systems. It'll also do all of the time evolution for you!\n",
    "\n",
    "I don't want to get carried away since we're talking about time dependence today. But as a last introduction, let's see how we could time evolve a state that evolves along $H_0$."
   ]
  },
  {
   "cell_type": "code",
   "execution_count": null,
   "metadata": {
    "collapsed": false
   },
   "outputs": [],
   "source": [
    "# initial state in the 0 direction of a 2x2 basis, i.e. | + >_x\n",
    "psi0 = basis(2, 0)\n",
    "\n",
    "# list of times for which the solver should store the state vector\n",
    "tlist = np.linspace(0, 10, 100)\n",
    "\n",
    "result = mesolve(H0, psi0, tlist, [], [])\n",
    "\n",
    "fig, axes = plt.subplots(1,1)\n",
    "\n",
    "axes.plot(tlist, expect(sigmaz(), result.states))\n",
    "\n",
    "axes.set_xlabel(r'$t$', fontsize=20)\n",
    "axes.set_ylabel(r'$\\left<\\sigma_z\\right>$', fontsize=20);"
   ]
  },
  {
   "cell_type": "markdown",
   "metadata": {},
   "source": [
    "Wow! Okay, now let's step things up a notch.\n",
    "\n",
    "__Time-Dependent Example A__.\n",
    "\n",
    "We're going to build a *tremendous* Stern-Gerlach experiment (and make the electrons pay for it).\n",
    "\n",
    "Say we shoot electrons into the apparatus which are initially *all pointing along $| + , z \\rangle$*. Let's also assume our magnetic field is constant in space, unlike the ordinary Stern Gerlach, with nonvanishing components along $x$ and $z$. We shoot the electron through and see how many electrons come out pointing up or down.\n",
    "\n",
    "* Quick check.\n",
    " * Concept question: For fixed apparatus length, does the proportion of final $| + , z \\rangle$ and $| - , z \\rangle$ states depend on the speed of the electron beam?\n",
    " * Concept question: If some electrons start in $|+, z \\rangle$ eigenstates and leave in $|-, z \\rangle$ eigenstates that have higher energy, that energy had to come from somewhere. Did we break energy conservation?"
   ]
  },
  {
   "cell_type": "markdown",
   "metadata": {},
   "source": [
    "Cool, now let's add a perturbation which depends *linearly* on time. That is, we're going to __jack up__ the strength of $B_z$ as the electron is going through the apparatus."
   ]
  },
  {
   "cell_type": "code",
   "execution_count": null,
   "metadata": {
    "collapsed": true
   },
   "outputs": [],
   "source": [
    "def tremendous_sg(delta, eps, A, psi0, tlist, osc=False, w = None, relax=False):\n",
    "    \"\"\"Compute the time evolution in the tremendous Stern-Gerlach\n",
    "    \n",
    "    Args:\n",
    "        delta: the off-diagonal piece of the unperturbed Hamiltonian\n",
    "        eps: the \\sigma_z component of H0\n",
    "        A: coefficient of the time-independent piece of the perturbing Hamiltonian\n",
    "        psi0: the initial state\n",
    "        tlist: an iterable of floats giving times at which H should be computed\n",
    "        osc: if True, make the field oscillate instead of increasing linearly in time\n",
    "        w: if osc is true, this is the angular frequency of oscillation\n",
    "        relax: if True, make excited states naturally fall back down to the ground state over time\n",
    "        \n",
    "    Returns:\n",
    "        array of expectation value of \\sigma_z at times in tlist\n",
    "    \"\"\"\n",
    "    # Let's get the pieces to build our Hamiltonian at any time\n",
    "    sx = sigmax()\n",
    "    sz = sigmaz()\n",
    "\n",
    "    H0 = - delta * sx - eps * sz\n",
    "    H1 = - A * sz\n",
    "\n",
    "    ## At the end of the day, we collapse with a measurement of the z basis state\n",
    "    \n",
    "    meas = destroy(2)\n",
    "    \n",
    "    if relax:\n",
    "        collapse_operators = [np.sqrt(0.1) * meas]\n",
    "    else:\n",
    "        collapse_operators = []\n",
    "    if osc:\n",
    "        H = [H0, [H1, lambda x,y: np.sin(w*x)]]\n",
    "    else:\n",
    "        H = [H0, [H1, 't']]\n",
    "    output = mesolve(H, psi0, tlist, collapse_operators, [meas.dag() * meas], {})\n",
    "    \n",
    "    return output.expect[0]"
   ]
  },
  {
   "cell_type": "code",
   "execution_count": null,
   "metadata": {
    "collapsed": false
   },
   "outputs": [],
   "source": [
    "## Here we choose numerical parameters\n",
    "\n",
    "delta = 0.5 * np.pi\n",
    "eps0  = 0.0 * np.pi\n",
    "A     = 2.0 * np.pi   # peturbation growth rate\n",
    "psi0 = basis(2,0)      # initial state\n",
    "\n",
    "tlist = np.linspace(-20.0, 20.0, 5000)\n",
    "\n",
    "p_ex = tremendous_sg(delta, eps0, A, psi0, tlist)"
   ]
  },
  {
   "cell_type": "code",
   "execution_count": null,
   "metadata": {
    "collapsed": false
   },
   "outputs": [],
   "source": [
    "fig, ax = plt.subplots(figsize=(12,8))\n",
    "ax.plot(tlist, np.real(p_ex), 'b', tlist, np.real(1-p_ex), 'r')\n",
    "ax.set_xlabel('Time')\n",
    "ax.set_ylabel('Occupation probability')\n",
    "ax.set_title('Landau-Zener transition')\n",
    "ax.legend((\"Excited state\", \"Ground state\"), loc=0);"
   ]
  },
  {
   "cell_type": "markdown",
   "metadata": {},
   "source": [
    "Wow! Let's dig in a little.\n",
    "\n",
    "__Wait, this doesn't make sense. I rememb?er from lecture that the coefficients under a time perturbation go like $c_m(t) \\, \\, ~ \\int_0^t dt' \\delta H_{mn} e^{i \\omega_ma t'}$. But here the off-diagonal elements $\\delta H_{mn}$ are zero, since the perturbing Hamiltonian is purely diagonal! So we should have a selection rule that says *nothing* happens!__\n",
    "\n",
    "What's wrong with this reasoning?\n",
    "\n",
    "__Okay, maybe there's no selection rule and this thing doesn't vanish. But looking again at the expression for $c_m(t)$, at negative times, this looks like $\\int_0^t dt' A t' (\\sigma_z)_{mn} e^{i \\omega_{ma} t'}$, where I think $\\omega_ma$ should be pretty big. Therefore at negative times I should get huge amplitude oscillations ($|A|$ is big) with a high frequency.__\n",
    "\n",
    "What goes wrong now?\n",
    "\n",
    "__The perturbing Hamiltonian $\\delta H = A \\sigma_z t$ is antisymmetric in time -- if I flip $t$ to $-t$, everything is the same up to a sign. Therefore the plot of probabilities should be symmetric in time, although possibly with the probabilities inverted before and after $t=0$. So why is the right side of the plot oscillator whereas the left side looks flat?__\n",
    "\n",
    "What breaks the symmetry here?\n",
    "\n",
    "__What would happen if we changed the \"background\" field along $z$ by setting $\\epsilon \\neq 0$? Will the crossover point in the above graph still occur at time $t=0$? Earlier? Later?__\n",
    "\n",
    "Please vote by thumb! ^_^\n",
    "\n",
    "__Why does the amplitude of the oscillations die down over time? Why does the speed of oscillations get faster?__\n",
    "\n",
    "What do you think?"
   ]
  },
  {
   "cell_type": "markdown",
   "metadata": {},
   "source": [
    "Let's make our *tremendous* Stern-Gerlach more interesting.\n",
    "\n",
    "Rather than change the field strength linearly in time, let's try a sinusoidal oscillation.\n",
    "\n",
    "$$\\delta H = \\sigma_z \\sin ( \\omega t )$$.\n",
    "\n",
    "Now what happens?"
   ]
  },
  {
   "cell_type": "code",
   "execution_count": null,
   "metadata": {
    "collapsed": false
   },
   "outputs": [],
   "source": [
    "w = 1.0\n",
    "tlist = np.linspace(-20.0, 20.0, 5000)\n",
    "\n",
    "p_ex_osc = tremendous_sg(delta, eps0, A, psi0, tlist, w=w, osc=True)"
   ]
  },
  {
   "cell_type": "code",
   "execution_count": null,
   "metadata": {
    "collapsed": false
   },
   "outputs": [],
   "source": [
    "fig, ax = plt.subplots(figsize=(12,8))\n",
    "ax.plot(tlist, np.real(p_ex_osc), 'b', tlist, np.real(1-p_ex_osc), 'r')\n",
    "ax.set_xlabel('Time')\n",
    "ax.set_ylabel('Occupation probability')\n",
    "ax.set_title('Landau-Zener transition')\n",
    "ax.legend((\"Excited state\", \"Ground state\"), loc=0);"
   ]
  },
  {
   "cell_type": "markdown",
   "metadata": {},
   "source": [
    "Now we never die down to a \"steady state\" configuration?\n",
    "\n",
    "What if we let the spins naturally relax from the excited state back down to the ground state (by emitting a photon, for example)?"
   ]
  },
  {
   "cell_type": "code",
   "execution_count": null,
   "metadata": {
    "collapsed": false
   },
   "outputs": [],
   "source": [
    "p_ex_relax = tremendous_sg(delta, eps0, A, psi0, tlist, w=w, osc=True, relax=True)\n",
    "\n",
    "fig, ax = plt.subplots(figsize=(12,8))\n",
    "ax.plot(tlist, np.real(p_ex_relax), 'b', tlist, np.real(1-p_ex_relax), 'r')\n",
    "ax.set_xlabel('Time')\n",
    "ax.set_ylabel('Occupation probability')\n",
    "ax.set_title('Landau-Zener transition')\n",
    "ax.legend((\"Excited state\", \"Ground state\"), loc=0);"
   ]
  },
  {
   "cell_type": "markdown",
   "metadata": {},
   "source": [
    "Wow! It looks like the probabilities eventually settle down once we add in the natural relaxation.\n",
    "\n",
    "For our last trick, let's see how this \"steady state\" probability depends on the parameters, namely the size $A$ of the perturbation, the frequency $\\omega$, and how much of the unperturbed Hamiltonian is along $S_z$ (measured by $\\epsilon$)."
   ]
  },
  {
   "cell_type": "code",
   "execution_count": null,
   "metadata": {
    "collapsed": false
   },
   "outputs": [],
   "source": [
    "\"\"\"\n",
    "WARNING\n",
    "\n",
    "This calculation is very slow! On a VPS (e.g. Binder), it will take several hours to run!\n",
    "\n",
    "To skip the computation and just see the plot, execute the next cell after this one.\n",
    "\"\"\"\n",
    "\n",
    "A_vec    = np.linspace(0.0, 4.0, 100) * 2 * np.pi  # driving amplitude\n",
    "eps_vec = np.linspace(0.0, 4.0, 100) * 2 * np.pi  # how much B_z\n",
    "w=1.0\n",
    "\n",
    "def get_eq_array(delta, eps_vec, A_vec, w):\n",
    "    \"\"\"Gets the equilibrium probabilities for various A and epsilon\n",
    "    \n",
    "    Args:\n",
    "        delta: the off-diagonal piece of the unperturbed Hamiltonian\n",
    "        eps: the \\sigma_z component of H0\n",
    "        A: coefficient of the time-independent piece of the perturbing Hamiltonian\n",
    "        psi0: the initial state\n",
    "        w: angular frequency of oscillation\n",
    "        \n",
    "    Returns:\n",
    "        2d array of equilibrium probabilities\n",
    "    \"\"\"\n",
    "    sx = sigmax()\n",
    "    sz = sigmaz()\n",
    "    meas = destroy(2)\n",
    "    sn = meas.dag() * meas\n",
    "    \n",
    "    ## At the end of the day, we collapse with a measurement of the z basis state\n",
    "\n",
    "    collapse_operators = [np.sqrt(0.1) * meas]\n",
    "\n",
    "    N = len(A_vec)\n",
    "    M = len(eps_vec)\n",
    "    p_ex = np.zeros([N, M])\n",
    "\n",
    "    T = 2 * np.pi / w\n",
    "\n",
    "    ## Iterate over the A and epsilon values, get the equilibrium\n",
    "    ## probabilities, and squirrel them away in a matrix\n",
    "    for n in range(0, N):\n",
    "        for m in range(0, M):\n",
    "\n",
    "            H0 = - delta/2.0 * sx - eps_vec[m]/2.0 * sz\n",
    "            H1 = - A_vec[n] * sx\n",
    "        \n",
    "            H_args = (H0, H1, w)\n",
    "\n",
    "            # find the propagator for one period of the time-dependent\n",
    "            # hamiltonian\n",
    "            H = [H0, [H1, lambda x,y: np.sin(w*x)]]\n",
    "            U = propagator(H, T, collapse_operators, {})\n",
    "\n",
    "            # find the steady state of the driven system \n",
    "            rho_ss = propagator_steadystate(U)\n",
    "        \n",
    "            p_ex[n, m] = np.real(expect(sn, rho_ss))\n",
    "\n",
    "    return p_ex\n",
    "\n",
    "p_ex = get_eq_array(delta, eps0_vec, A_vec, w)"
   ]
  },
  {
   "cell_type": "code",
   "execution_count": null,
   "metadata": {
    "collapsed": false
   },
   "outputs": [],
   "source": [
    "from IPython.display import Image\n",
    "Image(\"./ex_prob.png\")"
   ]
  },
  {
   "cell_type": "code",
   "execution_count": null,
   "metadata": {
    "collapsed": true
   },
   "outputs": [],
   "source": []
  }
 ],
 "metadata": {
  "kernelspec": {
   "display_name": "Python 2",
   "language": "python",
   "name": "python2"
  },
  "language_info": {
   "codemirror_mode": {
    "name": "ipython",
    "version": 2
   },
   "file_extension": ".py",
   "mimetype": "text/x-python",
   "name": "python",
   "nbconvert_exporter": "python",
   "pygments_lexer": "ipython2",
   "version": "2.7.11"
  }
 },
 "nbformat": 4,
 "nbformat_minor": 0
}
